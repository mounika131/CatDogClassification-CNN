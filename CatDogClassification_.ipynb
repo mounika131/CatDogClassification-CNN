{
  "nbformat": 4,
  "nbformat_minor": 0,
  "metadata": {
    "colab": {
      "name": "CatDogClassification  .ipynb",
      "provenance": [],
      "collapsed_sections": []
    },
    "kernelspec": {
      "name": "python3",
      "display_name": "Python 3"
    }
  },
  "cells": [
    {
      "cell_type": "code",
      "metadata": {
        "id": "50C8eFch_wI_"
      },
      "source": [
        "from tensorflow.compat.v1 import ConfigProto\r\n",
        "from tensorflow.compat.v1 import InteractiveSession\r\n",
        "\r\n",
        "config = ConfigProto()\r\n",
        "config.gpu_options.per_process_gpu_memory_fraction = 0.5\r\n",
        "config.gpu_options.allow_growth = True\r\n",
        "session = InteractiveSession(config=config)"
      ],
      "execution_count": 1,
      "outputs": []
    },
    {
      "cell_type": "code",
      "metadata": {
        "id": "1aBZQB-Gb05o"
      },
      "source": [
        "\r\n",
        "# Importing the libraries\r\n",
        "import tensorflow as tf\r\n",
        "from tensorflow.keras.preprocessing.image import ImageDataGenerator"
      ],
      "execution_count": 2,
      "outputs": []
    },
    {
      "cell_type": "code",
      "metadata": {
        "colab": {
          "base_uri": "https://localhost:8080/",
          "height": 35
        },
        "id": "4yycayMjbtzG",
        "outputId": "d5802d29-ecc0-4357-8d2f-1e4cb6170258"
      },
      "source": [
        "tf.__version__"
      ],
      "execution_count": 3,
      "outputs": [
        {
          "output_type": "execute_result",
          "data": {
            "application/vnd.google.colaboratory.intrinsic+json": {
              "type": "string"
            },
            "text/plain": [
              "'2.4.1'"
            ]
          },
          "metadata": {
            "tags": []
          },
          "execution_count": 3
        }
      ]
    },
    {
      "cell_type": "code",
      "metadata": {
        "colab": {
          "base_uri": "https://localhost:8080/"
        },
        "id": "kws5yB9Cb6Zn",
        "outputId": "5d9dd5b0-17f0-4156-d777-303e51e5b20d"
      },
      "source": [
        "# Preprocessing the Training set\r\n",
        "train_datagen = ImageDataGenerator(rescale = 1./255,\r\n",
        "                                   shear_range = 0.2,\r\n",
        "                                   zoom_range = 0.2,\r\n",
        "                                   horizontal_flip = True)\r\n",
        "training_set = train_datagen.flow_from_directory('/content/drive/MyDrive/dogcat/train',\r\n",
        "                                                 target_size = (64, 64),\r\n",
        "                                                 batch_size = 32,\r\n",
        "                                                 class_mode = 'binary')"
      ],
      "execution_count": 4,
      "outputs": [
        {
          "output_type": "stream",
          "text": [
            "Found 746 images belonging to 2 classes.\n"
          ],
          "name": "stdout"
        }
      ]
    },
    {
      "cell_type": "code",
      "metadata": {
        "colab": {
          "base_uri": "https://localhost:8080/"
        },
        "id": "nHeKzGd2mUhv",
        "outputId": "546a8fdd-1022-426a-9d04-4f3678360b93"
      },
      "source": [
        "test_datagen = ImageDataGenerator(rescale = 1./255)\r\n",
        "test_set = test_datagen.flow_from_directory('/content/drive/MyDrive/dogcat/test',\r\n",
        "                                            target_size = (64, 64),\r\n",
        "                                            batch_size = 32,\r\n",
        "                                            class_mode = 'binary')"
      ],
      "execution_count": 5,
      "outputs": [
        {
          "output_type": "stream",
          "text": [
            "Found 170 images belonging to 2 classes.\n"
          ],
          "name": "stdout"
        }
      ]
    },
    {
      "cell_type": "code",
      "metadata": {
        "id": "_9-J8UDQmdXn"
      },
      "source": [
        "from tensorflow.keras.layers import Conv2D"
      ],
      "execution_count": 6,
      "outputs": []
    },
    {
      "cell_type": "code",
      "metadata": {
        "id": "Ujwt59Q6meRP"
      },
      "source": [
        "\r\n",
        "\r\n",
        "# Initialising the CNN\r\n",
        "cnn = tf.keras.models.Sequential()\r\n",
        "\r\n",
        "# Step 1 - Convolution\r\n",
        "cnn.add(tf.keras.layers.Conv2D(filters=32,padding=\"same\",kernel_size=3, activation='relu', input_shape=[64, 64, 3]))\r\n",
        "\r\n",
        "# Step 2 - Pooling\r\n",
        "cnn.add(tf.keras.layers.MaxPool2D(pool_size=2, strides=2))\r\n",
        "\r\n",
        "# Adding a second convolutional layer\r\n",
        "cnn.add(tf.keras.layers.Conv2D(filters=32,padding='same',kernel_size=3, activation='relu'))\r\n",
        "cnn.add(tf.keras.layers.MaxPool2D(pool_size=2, strides=2))\r\n",
        "\r\n",
        "# Step 3 - Flattening\r\n",
        "cnn.add(tf.keras.layers.Flatten())\r\n",
        "\r\n",
        "# Step 4 - Full Connection\r\n",
        "cnn.add(tf.keras.layers.Dense(units=128, activation='relu'))\r\n",
        "\r\n",
        "# Step 5 - Output Layer\r\n",
        "cnn.add(tf.keras.layers.Dense(units=1, activation='sigmoid'))"
      ],
      "execution_count": 8,
      "outputs": []
    },
    {
      "cell_type": "code",
      "metadata": {
        "colab": {
          "base_uri": "https://localhost:8080/"
        },
        "id": "Y4RmY_TSmmS9",
        "outputId": "58a48f0a-0bd9-49ca-a4d9-a58dba71a929"
      },
      "source": [
        "\r\n",
        "cnn.summary()"
      ],
      "execution_count": 9,
      "outputs": [
        {
          "output_type": "stream",
          "text": [
            "Model: \"sequential\"\n",
            "_________________________________________________________________\n",
            "Layer (type)                 Output Shape              Param #   \n",
            "=================================================================\n",
            "conv2d (Conv2D)              (None, 64, 64, 32)        896       \n",
            "_________________________________________________________________\n",
            "max_pooling2d (MaxPooling2D) (None, 32, 32, 32)        0         \n",
            "_________________________________________________________________\n",
            "conv2d_1 (Conv2D)            (None, 32, 32, 32)        9248      \n",
            "_________________________________________________________________\n",
            "max_pooling2d_1 (MaxPooling2 (None, 16, 16, 32)        0         \n",
            "_________________________________________________________________\n",
            "flatten (Flatten)            (None, 8192)              0         \n",
            "_________________________________________________________________\n",
            "dense (Dense)                (None, 128)               1048704   \n",
            "_________________________________________________________________\n",
            "dense_1 (Dense)              (None, 1)                 129       \n",
            "=================================================================\n",
            "Total params: 1,058,977\n",
            "Trainable params: 1,058,977\n",
            "Non-trainable params: 0\n",
            "_________________________________________________________________\n"
          ],
          "name": "stdout"
        }
      ]
    },
    {
      "cell_type": "code",
      "metadata": {
        "colab": {
          "base_uri": "https://localhost:8080/"
        },
        "id": "mdxokO1_m8Xv",
        "outputId": "900d957a-593b-48cf-ab20-1fefd32d5baf"
      },
      "source": [
        "# Part 3 - Training the CNN\r\n",
        "\r\n",
        "# Compiling the CNN\r\n",
        "cnn.compile(optimizer = 'adam', loss = 'binary_crossentropy', metrics = ['accuracy'])\r\n",
        "\r\n",
        "# Training the CNN on the Training set and evaluating it on the Test set\r\n",
        "cnn.fit(x = training_set, validation_data = test_set, epochs = 10)"
      ],
      "execution_count": 10,
      "outputs": [
        {
          "output_type": "stream",
          "text": [
            "Epoch 1/10\n",
            "24/24 [==============================] - 141s 6s/step - loss: 0.7335 - accuracy: 0.5033 - val_loss: 0.6850 - val_accuracy: 0.5647\n",
            "Epoch 2/10\n",
            "24/24 [==============================] - 8s 339ms/step - loss: 0.6848 - accuracy: 0.5835 - val_loss: 0.6467 - val_accuracy: 0.6941\n",
            "Epoch 3/10\n",
            "24/24 [==============================] - 8s 342ms/step - loss: 0.6646 - accuracy: 0.6138 - val_loss: 0.6381 - val_accuracy: 0.6824\n",
            "Epoch 4/10\n",
            "24/24 [==============================] - 8s 340ms/step - loss: 0.6407 - accuracy: 0.6514 - val_loss: 0.6388 - val_accuracy: 0.6647\n",
            "Epoch 5/10\n",
            "24/24 [==============================] - 8s 339ms/step - loss: 0.5840 - accuracy: 0.6934 - val_loss: 0.6567 - val_accuracy: 0.6235\n",
            "Epoch 6/10\n",
            "24/24 [==============================] - 8s 341ms/step - loss: 0.6334 - accuracy: 0.6324 - val_loss: 0.6407 - val_accuracy: 0.6765\n",
            "Epoch 7/10\n",
            "24/24 [==============================] - 8s 339ms/step - loss: 0.5854 - accuracy: 0.7030 - val_loss: 0.6242 - val_accuracy: 0.6647\n",
            "Epoch 8/10\n",
            "24/24 [==============================] - 8s 344ms/step - loss: 0.5303 - accuracy: 0.7280 - val_loss: 0.6035 - val_accuracy: 0.7000\n",
            "Epoch 9/10\n",
            "24/24 [==============================] - 8s 344ms/step - loss: 0.5042 - accuracy: 0.7531 - val_loss: 0.6767 - val_accuracy: 0.6647\n",
            "Epoch 10/10\n",
            "24/24 [==============================] - 8s 343ms/step - loss: 0.5207 - accuracy: 0.7477 - val_loss: 0.7111 - val_accuracy: 0.6294\n"
          ],
          "name": "stdout"
        },
        {
          "output_type": "execute_result",
          "data": {
            "text/plain": [
              "<tensorflow.python.keras.callbacks.History at 0x7f18fb5859e8>"
            ]
          },
          "metadata": {
            "tags": []
          },
          "execution_count": 10
        }
      ]
    },
    {
      "cell_type": "code",
      "metadata": {
        "id": "a5p0AbXCm9ZY"
      },
      "source": [
        "\r\n",
        "\r\n",
        "from tensorflow.keras.models import load_model\r\n",
        "\r\n",
        "cnn.save('model_rcat_dog.h5')"
      ],
      "execution_count": 11,
      "outputs": []
    },
    {
      "cell_type": "code",
      "metadata": {
        "id": "NCd7nUU4oJda"
      },
      "source": [
        "from tensorflow.keras.models import load_model\r\n",
        " \r\n",
        "# load model\r\n",
        "model = load_model('model_rcat_dog.h5')"
      ],
      "execution_count": 12,
      "outputs": []
    },
    {
      "cell_type": "code",
      "metadata": {
        "colab": {
          "base_uri": "https://localhost:8080/"
        },
        "id": "BPn-mamjoKqh",
        "outputId": "bc4b2d47-b26e-4a40-863a-938109b5b0f6"
      },
      "source": [
        "model.summary()"
      ],
      "execution_count": 13,
      "outputs": [
        {
          "output_type": "stream",
          "text": [
            "Model: \"sequential\"\n",
            "_________________________________________________________________\n",
            "Layer (type)                 Output Shape              Param #   \n",
            "=================================================================\n",
            "conv2d (Conv2D)              (None, 64, 64, 32)        896       \n",
            "_________________________________________________________________\n",
            "max_pooling2d (MaxPooling2D) (None, 32, 32, 32)        0         \n",
            "_________________________________________________________________\n",
            "conv2d_1 (Conv2D)            (None, 32, 32, 32)        9248      \n",
            "_________________________________________________________________\n",
            "max_pooling2d_1 (MaxPooling2 (None, 16, 16, 32)        0         \n",
            "_________________________________________________________________\n",
            "flatten (Flatten)            (None, 8192)              0         \n",
            "_________________________________________________________________\n",
            "dense (Dense)                (None, 128)               1048704   \n",
            "_________________________________________________________________\n",
            "dense_1 (Dense)              (None, 1)                 129       \n",
            "=================================================================\n",
            "Total params: 1,058,977\n",
            "Trainable params: 1,058,977\n",
            "Non-trainable params: 0\n",
            "_________________________________________________________________\n"
          ],
          "name": "stdout"
        }
      ]
    },
    {
      "cell_type": "code",
      "metadata": {
        "id": "XxhFcEDHoSHd"
      },
      "source": [
        "import numpy as np\r\n",
        "from tensorflow.keras.preprocessing import image\r\n",
        "test_image = image.load_img('/content/drive/MyDrive/dogcat/test/dog/dog.0.jpg', target_size = (64,64))\r\n",
        "test_image = image.img_to_array(test_image)\r\n",
        "test_image=test_image/255\r\n",
        "test_image = np.expand_dims(test_image, axis = 0)\r\n",
        "result1 = cnn.predict(test_image)"
      ],
      "execution_count": 20,
      "outputs": []
    },
    {
      "cell_type": "code",
      "metadata": {
        "colab": {
          "base_uri": "https://localhost:8080/"
        },
        "id": "JX-UlmemozyG",
        "outputId": "71e9c90e-1265-441c-991f-6406b1a7dbde"
      },
      "source": [
        "if result1[0]<=0.5:\r\n",
        "    print(\"The image classified is cat\")\r\n",
        "else:\r\n",
        "    print(\"The image classified is dog\")"
      ],
      "execution_count": 21,
      "outputs": [
        {
          "output_type": "stream",
          "text": [
            "The image classified is dog\n"
          ],
          "name": "stdout"
        }
      ]
    }
  ]
}